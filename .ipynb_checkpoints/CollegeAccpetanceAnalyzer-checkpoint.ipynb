{
 "cells": [
  {
   "cell_type": "markdown",
   "metadata": {},
   "source": [
    "# College Acceptance Analyer\n",
    "The College Acceptance Analyzer will collect, analyze, and visualize the different factors necessary to get into the top undergraduate medical colleges.  Some of the factors involved to get into the top undergrad medical colleges, include GPA, SAT/ACT.\n",
    "\n",
    "College Name   GPA   SAT    ACT  In-State Tuition    Out-of-State Tuition"
   ]
  },
  {
   "cell_type": "markdown",
   "metadata": {},
   "source": [
    "## Data Collection\n",
    "Collecting Data from CollegeBoard, PrepScholar, and other websites.\n",
    "Sources:  U.S. and World News Report"
   ]
  },
  {
   "cell_type": "code",
   "execution_count": 1,
   "metadata": {},
   "outputs": [],
   "source": [
    "from bs4 import BeautifulSoup as soup\n",
    "import requests\n",
    "from selenium import webdriver\n",
    "import time"
   ]
  },
  {
   "cell_type": "code",
   "execution_count": 6,
   "metadata": {},
   "outputs": [],
   "source": [
    "headers = {'User-Agent': 'Mozilla/5.0 (Windows NT 6.1; WOW64) AppleWebKit/537.36 (KHTML, like Gecko) Chrome/56.0.2924.76 Safari/537.36', \"Upgrade-Insecure-Requests\": \"1\",\"DNT\": \"1\",\"Accept\": \"text/html,application/xhtml+xml,application/xml;q=0.9,*/*;q=0.8\",\"Accept-Language\": \"en-US,en;q=0.5\",\"Accept-Encoding\": \"gzip, deflate\"}\n",
    "college_soup = requests.get(\"https://www.usnews.com/best-graduate-schools/top-medical-schools/research-rankings\", headers=headers)\n",
    "#college_soup = requests.get(\"https://www.ranker.com/crowdranked-list/best-medical-schools\",headers=headers)\n",
    "college_soup.status_code # Successful Access\n",
    "college_info = soup(college_soup.text, 'html5lib')"
   ]
  },
  {
   "cell_type": "code",
   "execution_count": 7,
   "metadata": {},
   "outputs": [],
   "source": [
    "college_section = college_info.find(\"ol\", class_=\"BigSixResults__OrderedList-sc-19pb4sw-4 ueExF\")"
   ]
  },
  {
   "cell_type": "code",
   "execution_count": 8,
   "metadata": {},
   "outputs": [
    {
     "data": {
      "text/plain": [
       "['University of Washington',\n",
       " 'Yale University',\n",
       " 'Stanford University',\n",
       " 'Harvard University',\n",
       " 'University of California--San Francisco',\n",
       " 'New York University (Grossman)',\n",
       " 'University of Pennsylvania (Perelman)',\n",
       " 'Duke University',\n",
       " 'Columbia University',\n",
       " 'Johns Hopkins University']"
      ]
     },
     "execution_count": 8,
     "metadata": {},
     "output_type": "execute_result"
    }
   ],
   "source": [
    "college_names = []\n",
    "for section in college_section.find_all():\n",
    "    college_sectional=section.find(\"div\", class_=\"DetailCardCompare__CardText-sc-1x70p5o-2 chhOaT text-container\")\n",
    "    #college_name= college_sectional.find(\"h3\", class_=\"Heading__HeadingStyled-sc-1w5xk2o-0-h3 iQSAEG Heading-sc-1w5xk2o-1 NJLrK\").text\n",
    "    #print(college_sectional)\n",
    "    if college_sectional != None:\n",
    "        college_name= college_sectional.find(\"h3\", class_=\"Heading__HeadingStyled-sc-1w5xk2o-0-h3 iQSAEG Heading-sc-1w5xk2o-1 NJLrK\").text\n",
    "        college_names.append(college_name)\n",
    "        college_names = set(college_names)\n",
    "        college_names = list(college_names)\n",
    "college_names"
   ]
  },
  {
   "cell_type": "code",
   "execution_count": 2,
   "metadata": {},
   "outputs": [],
   "source": [
    "wbD = webdriver.Chrome('chromedriver.exe')\n",
    "#headers2= {'User-Agent': 'Mozilla/5.0 (Windows NT 6.1; WOW64) AppleWebKit/537.36 (KHTML, like Gecko) Chrome/56.0.2924.76 Safari/537.36', \"Upgrade-Insecure-Requests\": \"1\",\"DNT\": \"1\",\"Accept\": \"text/html,application/xhtml+xml,application/xml;q=0.9,*/*;q=0.8\",\"Accept-Language\": \"en-US,en;q=0.5\",\"Accept-Encoding\": \"gzip, deflate\"}\n",
    "#headers2 = {'User-Agent': 'Mozilla/5.0 (Windows NT 6.1; WOW64) AppleWebKit/537.36 (KHTML, like Gecko) Chrome/56.0.2924.76 Safari/537.36', \"Upgrade-Insecure-Requests\": \"1\",\"DNT\": \"1\",\"Accept\": \"text/html,application/xhtml+xml,application/xml;q=0.9,*/*;q=0.8\",\"Accept-Language\": \"en-US,en;q=0.5\",\"Accept-Encoding\": \"gzip, deflate\"}\n",
    "#college_soup = requests.get(\"https://www.motivatemd.com/list-of-medical-schools/\", headers=headers2)\n",
    "#college_soup = requests.get(\"https://www.ranker.com/crowdranked-list/best-medical-schools\",headers=headers)\n",
    "#college_soup.status_code # Successful Access\n",
    "#college_info = soup(college_soup.text, 'html5lib')\n",
    "wbD.get('https://www.motivatemd.com/list-of-medical-schools/')\n",
    "\n"
   ]
  },
  {
   "cell_type": "code",
   "execution_count": 15,
   "metadata": {},
   "outputs": [
    {
     "data": {
      "text/plain": [
       "['3.60',\n",
       " '3.79',\n",
       " '3.81',\n",
       " '3.58',\n",
       " '3.70',\n",
       " '3.69',\n",
       " '3.78',\n",
       " '3.85',\n",
       " '3.82',\n",
       " '3.79',\n",
       " '3.71',\n",
       " '3.72',\n",
       " '3.74',\n",
       " '3.78',\n",
       " '3.84',\n",
       " '3.92',\n",
       " '3.73',\n",
       " '3.71',\n",
       " '3.85',\n",
       " '3.76',\n",
       " '3.52',\n",
       " '3.71',\n",
       " '3.65',\n",
       " '3.79',\n",
       " '3.50']"
      ]
     },
     "execution_count": 15,
     "metadata": {},
     "output_type": "execute_result"
    }
   ],
   "source": [
    "#for school in wbD.find_element_by_class_name(\"odd\")\n",
    " #   print(school.text)\n",
    "college_names    = []\n",
    "gpas = []\n",
    "college_type=[]\n",
    "class_size=[]\n",
    "mcats=[]\n",
    "\n",
    "for i in wbD.find_elements_by_class_name(\"odd\"):\n",
    "    #college_names.append(i.text)\n",
    "    college_names.append(i.find_element_by_class_name(\"column-schoolname\").text)\n",
    "    college_type.append(i.find_element_by_class_name(\"column-type\").text)\n",
    "    gpas.append(i.find_element_by_class_name(\"column-averagegpa\").text)\n",
    "    mcats.append(i.find_element_by_class_name(\"column-averagemcat\").text)\n",
    "    class_size.append(i.find_element_by_class_name(\"column-classsize\").text)\n",
    "    \n",
    "    #button = i.find_element_by_class_name(\"responsiveExpander\")\n",
    "    #button.click()\n",
    "    #for k in wbD.find_elements_by_class_name(\"odd detail-show\"):\n",
    "        #gpa = k.find_element_by_class_name(\"row-detail\")\n",
    "       # gpas.append(gpa)\n",
    " #   gpa = i.find_element_by_class_name(\"numdata float column-averagegpa\")\n",
    " #   print(gpa)\n",
    "    #gpas.append(gpa.text)\n",
    "\n",
    "for j in wbD.find_elements_by_class_name(\"even\"):\n",
    "    #college_names.append(j.text)\n",
    "    college_names.append(i.find_element_by_class_name(\"column-schoolname\").text)\n",
    "    college_type.append(i.find_element_by_class_name(\"column-type\").text)\n",
    "    gpas.append(i.find_element_by_class_name(\"column-averagegpa\").text)\n",
    "    mcats.append(i.find_element_by_class_name(\"column-averagemcat\").text)\n",
    "    class_size.append(i.find_element_by_class_name(\"column-classsize\").text)\n",
    "college_names\n",
    "\n",
    "college_type\n",
    "gpas\n",
    "#gpas\n",
    "#college_section = college_info.find(\"div\", class_=\"wpdt-c\")  \n",
    "\n",
    "#college_section_2 = college_section.find(\"div\", class_=\"wpDataTables wpDataTablesWrapper\")\n",
    "#college_section_2 = college_section.find_next(\"table\")\n",
    "#college_names = []\n",
    "#for section in college_section_2.find_all():\n",
    "    #print(section)\n",
    "   # college_sectional_even=section.find_next(\"tbody\")\n",
    "    #college_name= college_sectional.find(\"h3\", class_=\"Heading__HeadingStyled-sc-1w5xk2o-0-h3 iQSAEG Heading-sc-1w5xk2o-1 NJLrK\").text\n",
    "    #print(college_sectional_even)\n",
    "    #if college_sectional_even != None:\n",
    "      #  for college_sectional in college_sectional_even.find_all():\n",
    "           # print(college_sectional)\n",
    "           # if college_sectional != None:\n",
    "            #college_name= college_sectional.find(\"td\", class_=\"column-schoolname\").text\n",
    "            #college_names.append(college_name)\n",
    "                #college_names = set(college_names)\n",
    "                #college_names = list(college_names)\n",
    "\n",
    "\n",
    "\n",
    "#for i in wbD.find_elements_by_class_name(\"odd\"):\n",
    "#    button = i.find_element_by_class_name(\"responsiveExpander\")\n",
    "#    time.sleep(5)\n",
    "    #button.click()\n",
    "#for k in wbD.find_elements_by_class_name(\"odd detail-show\"):\n",
    "   # college_names.append(k.text)\n",
    "    \n",
    "#college_names       \n"
   ]
  },
  {
   "cell_type": "code",
   "execution_count": 12,
   "metadata": {},
   "outputs": [
    {
     "ename": "AttributeError",
     "evalue": "'NoneType' object has no attribute 'find_all'",
     "output_type": "error",
     "traceback": [
      "\u001b[1;31m---------------------------------------------------------------------------\u001b[0m",
      "\u001b[1;31mAttributeError\u001b[0m                            Traceback (most recent call last)",
      "\u001b[1;32m<ipython-input-12-2ff4dde45e05>\u001b[0m in \u001b[0;36m<module>\u001b[1;34m\u001b[0m\n\u001b[0;32m      7\u001b[0m \u001b[1;33m\u001b[0m\u001b[0m\n\u001b[0;32m      8\u001b[0m     \u001b[0mcollege_names\u001b[0m \u001b[1;33m=\u001b[0m \u001b[1;33m[\u001b[0m\u001b[1;33m]\u001b[0m\u001b[1;33m\u001b[0m\u001b[1;33m\u001b[0m\u001b[0m\n\u001b[1;32m----> 9\u001b[1;33m     \u001b[1;32mfor\u001b[0m \u001b[0msection\u001b[0m \u001b[1;32min\u001b[0m \u001b[0mcollege_section\u001b[0m\u001b[1;33m.\u001b[0m\u001b[0mfind_all\u001b[0m\u001b[1;33m(\u001b[0m\u001b[1;33m)\u001b[0m\u001b[1;33m:\u001b[0m\u001b[1;33m\u001b[0m\u001b[1;33m\u001b[0m\u001b[0m\n\u001b[0m\u001b[0;32m     10\u001b[0m         \u001b[0mcollege_sectional_even\u001b[0m\u001b[1;33m=\u001b[0m\u001b[0msection\u001b[0m\u001b[1;33m.\u001b[0m\u001b[0mfind\u001b[0m\u001b[1;33m(\u001b[0m\u001b[1;34m\"div\"\u001b[0m\u001b[1;33m,\u001b[0m \u001b[0mclass_\u001b[0m\u001b[1;33m=\u001b[0m\u001b[1;34m\"even\"\u001b[0m\u001b[1;33m)\u001b[0m\u001b[1;33m\u001b[0m\u001b[1;33m\u001b[0m\u001b[0m\n\u001b[0;32m     11\u001b[0m         \u001b[1;31m#college_name= college_sectional.find(\"h3\", class_=\"Heading__HeadingStyled-sc-1w5xk2o-0-h3 iQSAEG Heading-sc-1w5xk2o-1 NJLrK\").text\u001b[0m\u001b[1;33m\u001b[0m\u001b[1;33m\u001b[0m\u001b[1;33m\u001b[0m\u001b[0m\n",
      "\u001b[1;31mAttributeError\u001b[0m: 'NoneType' object has no attribute 'find_all'"
     ]
    }
   ],
   "source": [
    "while college:\n",
    "    \n",
    "    college_section = college_info.find(\"table\", class_=\"responsive display nowrap data-t data-t wpDataTable dataTable\")  \n",
    "    \n",
    "    \n",
    "    college_names = []\n",
    "    for section in college_section.find_all():\n",
    "        college_sectional_even=section.find(\"div\", class_=\"even\")\n",
    "        #college_name= college_sectional.find(\"h3\", class_=\"Heading__HeadingStyled-sc-1w5xk2o-0-h3 iQSAEG Heading-sc-1w5xk2o-1 NJLrK\").text\n",
    "        #print(college_sectional)\n",
    "        if college_sectional_even != None:\n",
    "            college_name= college_sectional.find(\"td\", class_=\"column-schoolname\").text\n",
    "            college_names.append(college_name)\n",
    "            #college_names = set(college_names)\n",
    "            #college_names = list(college_names)\n",
    "\n",
    "    \n",
    "    \n",
    "    \n",
    "    \n",
    "    \n",
    "    \n",
    "    try:\n",
    "        time.sleep(14)\n",
    "        #button = driver.find_element_by_class_name('Button-suns4m-1 LoadMoreWrapper__LoadMore-zwyk5c-1 byYyZh bioIhU')\n",
    "\n",
    "        button = wbD.find_element_by_class_name('paginate_button next')\n",
    "        #button = wbD.find_element_by_class_name('LoadMoreWrapper__Container-zwyk5c-0 jcetMo')\n",
    "        #button = driver.find_element_by_link_text(\"Load More\")\n",
    "        button.click()\n",
    "       # time.sleep(16)\n",
    "\n",
    "    except:\n",
    "        college = False"
   ]
  },
  {
   "cell_type": "code",
   "execution_count": null,
   "metadata": {},
   "outputs": [],
   "source": []
  }
 ],
 "metadata": {
  "kernelspec": {
   "display_name": "Python 3",
   "language": "python",
   "name": "python3"
  },
  "language_info": {
   "codemirror_mode": {
    "name": "ipython",
    "version": 3
   },
   "file_extension": ".py",
   "mimetype": "text/x-python",
   "name": "python",
   "nbconvert_exporter": "python",
   "pygments_lexer": "ipython3",
   "version": "3.8.3"
  }
 },
 "nbformat": 4,
 "nbformat_minor": 4
}
