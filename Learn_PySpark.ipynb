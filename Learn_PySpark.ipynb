{
 "cells": [
  {
   "cell_type": "code",
   "execution_count": 7,
   "id": "4f6b3939",
   "metadata": {},
   "outputs": [],
   "source": [
    "import pandas as pd"
   ]
  },
  {
   "cell_type": "code",
   "execution_count": 9,
   "id": "746f54c6",
   "metadata": {},
   "outputs": [],
   "source": [
    "df = pd.DataFrame({\"Name\": ['Rithi', 'Mom', 'Ajay'],\n",
    "             \"Age\": [15, 48, 21]})\n",
    "df.to_csv('Sample.csv')"
   ]
  },
  {
   "cell_type": "code",
   "execution_count": 1,
   "id": "ad7e8414",
   "metadata": {},
   "outputs": [],
   "source": [
    "import pyspark"
   ]
  },
  {
   "cell_type": "code",
   "execution_count": 2,
   "id": "1252f36e",
   "metadata": {},
   "outputs": [],
   "source": [
    "from pyspark.sql import SparkSession"
   ]
  },
  {
   "cell_type": "code",
   "execution_count": 3,
   "id": "4256820e",
   "metadata": {},
   "outputs": [],
   "source": [
    "spark=SparkSession.builder.appName('Sample').getOrCreate()"
   ]
  },
  {
   "cell_type": "code",
   "execution_count": 4,
   "id": "f178973b",
   "metadata": {},
   "outputs": [
    {
     "name": "stdout",
     "output_type": "stream",
     "text": [
      "<pyspark.sql.session.SparkSession object at 0x7f0d45dd9a60>\n"
     ]
    }
   ],
   "source": [
    "print(spark)"
   ]
  },
  {
   "cell_type": "code",
   "execution_count": 5,
   "id": "b3f16ce3",
   "metadata": {},
   "outputs": [
    {
     "data": {
      "text/html": [
       "\n",
       "            <div>\n",
       "                <p><b>SparkSession - in-memory</b></p>\n",
       "                \n",
       "        <div>\n",
       "            <p><b>SparkContext</b></p>\n",
       "\n",
       "            <p><a href=\"http://10.0.2.15:4040\">Spark UI</a></p>\n",
       "\n",
       "            <dl>\n",
       "              <dt>Version</dt>\n",
       "                <dd><code>v3.1.2</code></dd>\n",
       "              <dt>Master</dt>\n",
       "                <dd><code>local[*]</code></dd>\n",
       "              <dt>AppName</dt>\n",
       "                <dd><code>Sample</code></dd>\n",
       "            </dl>\n",
       "        </div>\n",
       "        \n",
       "            </div>\n",
       "        "
      ],
      "text/plain": [
       "<pyspark.sql.session.SparkSession at 0x7f0d45dd9a60>"
      ]
     },
     "execution_count": 5,
     "metadata": {},
     "output_type": "execute_result"
    }
   ],
   "source": [
    "spark"
   ]
  },
  {
   "cell_type": "code",
   "execution_count": 14,
   "id": "0e6fc41e",
   "metadata": {},
   "outputs": [],
   "source": [
    "df_pyspark = spark.read.option('header', 'true').csv('Sample.csv',inferSchema=True)"
   ]
  },
  {
   "cell_type": "code",
   "execution_count": 15,
   "id": "b177d1e3",
   "metadata": {},
   "outputs": [
    {
     "name": "stdout",
     "output_type": "stream",
     "text": [
      "root\n",
      " |-- _c0: integer (nullable = true)\n",
      " |-- Name: string (nullable = true)\n",
      " |-- Age: integer (nullable = true)\n",
      "\n"
     ]
    }
   ],
   "source": [
    "# Check the schema\n",
    "df_pyspark.printSchema()"
   ]
  },
  {
   "cell_type": "code",
   "execution_count": 16,
   "id": "843765d6",
   "metadata": {},
   "outputs": [
    {
     "name": "stdout",
     "output_type": "stream",
     "text": [
      "+---+-----+---+\n",
      "|_c0| Name|Age|\n",
      "+---+-----+---+\n",
      "|  0|Rithi| 15|\n",
      "|  1|  Mom| 48|\n",
      "|  2| Ajay| 21|\n",
      "+---+-----+---+\n",
      "\n"
     ]
    }
   ],
   "source": [
    "df_pyspark=spark.read.csv('Sample.csv', header=True,inferSchema=True)\n",
    "df_pyspark.show()"
   ]
  },
  {
   "cell_type": "code",
   "execution_count": 17,
   "id": "1ba32be9",
   "metadata": {},
   "outputs": [
    {
     "data": {
      "text/plain": [
       "pyspark.sql.dataframe.DataFrame"
      ]
     },
     "execution_count": 17,
     "metadata": {},
     "output_type": "execute_result"
    }
   ],
   "source": [
    "type(df_pyspark)"
   ]
  },
  {
   "cell_type": "code",
   "execution_count": 19,
   "id": "f8379b61",
   "metadata": {},
   "outputs": [
    {
     "data": {
      "text/plain": [
       "[Row(_c0=0, Name='Rithi', Age=15),\n",
       " Row(_c0=1, Name='Mom', Age=48),\n",
       " Row(_c0=2, Name='Ajay', Age=21)]"
      ]
     },
     "execution_count": 19,
     "metadata": {},
     "output_type": "execute_result"
    }
   ],
   "source": [
    "df_pyspark.head(3)"
   ]
  },
  {
   "cell_type": "code",
   "execution_count": 20,
   "id": "1f865369",
   "metadata": {},
   "outputs": [
    {
     "name": "stdout",
     "output_type": "stream",
     "text": [
      "+---+-----+---+\n",
      "|_c0| Name|Age|\n",
      "+---+-----+---+\n",
      "|  0|Rithi| 15|\n",
      "|  1|  Mom| 48|\n",
      "|  2| Ajay| 21|\n",
      "+---+-----+---+\n",
      "\n"
     ]
    }
   ],
   "source": [
    "df_pyspark.show()"
   ]
  },
  {
   "cell_type": "code",
   "execution_count": 22,
   "id": "9dc2a438",
   "metadata": {},
   "outputs": [
    {
     "name": "stdout",
     "output_type": "stream",
     "text": [
      "+-----+\n",
      "| Name|\n",
      "+-----+\n",
      "|Rithi|\n",
      "|  Mom|\n",
      "| Ajay|\n",
      "+-----+\n",
      "\n"
     ]
    }
   ],
   "source": [
    "df_pyspark.select('Name').show()"
   ]
  },
  {
   "cell_type": "code",
   "execution_count": 23,
   "id": "f6d93cac",
   "metadata": {},
   "outputs": [
    {
     "name": "stdout",
     "output_type": "stream",
     "text": [
      "+-----+---+\n",
      "| Name|Age|\n",
      "+-----+---+\n",
      "|Rithi| 15|\n",
      "|  Mom| 48|\n",
      "| Ajay| 21|\n",
      "+-----+---+\n",
      "\n"
     ]
    }
   ],
   "source": [
    "df_pyspark.select(['Name', 'Age']).show()"
   ]
  },
  {
   "cell_type": "code",
   "execution_count": 24,
   "id": "01f1fd2e",
   "metadata": {},
   "outputs": [
    {
     "data": {
      "text/plain": [
       "[('_c0', 'int'), ('Name', 'string'), ('Age', 'int')]"
      ]
     },
     "execution_count": 24,
     "metadata": {},
     "output_type": "execute_result"
    }
   ],
   "source": [
    "# Check Data Types\n",
    "df_pyspark.dtypes\n"
   ]
  },
  {
   "cell_type": "code",
   "execution_count": 25,
   "id": "10ba63a4",
   "metadata": {},
   "outputs": [
    {
     "data": {
      "text/plain": [
       "DataFrame[summary: string, _c0: string, Name: string, Age: string]"
      ]
     },
     "execution_count": 25,
     "metadata": {},
     "output_type": "execute_result"
    }
   ],
   "source": [
    "df_pyspark.describe()"
   ]
  },
  {
   "cell_type": "code",
   "execution_count": 26,
   "id": "a9f9e19d",
   "metadata": {},
   "outputs": [
    {
     "name": "stdout",
     "output_type": "stream",
     "text": [
      "+-------+---+-----+------------------+\n",
      "|summary|_c0| Name|               Age|\n",
      "+-------+---+-----+------------------+\n",
      "|  count|  3|    3|                 3|\n",
      "|   mean|1.0| null|              28.0|\n",
      "| stddev|1.0| null|17.578395831246947|\n",
      "|    min|  0| Ajay|                15|\n",
      "|    max|  2|Rithi|                48|\n",
      "+-------+---+-----+------------------+\n",
      "\n"
     ]
    }
   ],
   "source": [
    "df_pyspark.describe().show()"
   ]
  },
  {
   "cell_type": "code",
   "execution_count": 27,
   "id": "e6254c09",
   "metadata": {},
   "outputs": [
    {
     "name": "stdout",
     "output_type": "stream",
     "text": [
      "+---+-----+---+----------+\n",
      "|_c0| Name|Age|Experience|\n",
      "+---+-----+---+----------+\n",
      "|  0|Rithi| 15|        17|\n",
      "|  1|  Mom| 48|        50|\n",
      "|  2| Ajay| 21|        23|\n",
      "+---+-----+---+----------+\n",
      "\n"
     ]
    }
   ],
   "source": [
    "### Adding columns in data frame\n",
    "df_pyspark.withColumn('Experience', df_pyspark['Age']+2).show()"
   ]
  },
  {
   "cell_type": "code",
   "execution_count": 29,
   "id": "8311db02",
   "metadata": {},
   "outputs": [],
   "source": [
    "### Drop Columns in data frame\n",
    "df_pyspark=df_pyspark.drop('Experience')"
   ]
  },
  {
   "cell_type": "code",
   "execution_count": 30,
   "id": "c2977c3d",
   "metadata": {},
   "outputs": [
    {
     "name": "stdout",
     "output_type": "stream",
     "text": [
      "+---+-----+---+\n",
      "|_c0| Name|Age|\n",
      "+---+-----+---+\n",
      "|  0|Rithi| 15|\n",
      "|  1|  Mom| 48|\n",
      "|  2| Ajay| 21|\n",
      "+---+-----+---+\n",
      "\n"
     ]
    }
   ],
   "source": [
    "df_pyspark.show()"
   ]
  },
  {
   "cell_type": "code",
   "execution_count": 33,
   "id": "2c8e28bf",
   "metadata": {},
   "outputs": [],
   "source": [
    "### Rename Column\n",
    "df_pyspark=df_pyspark.withColumnRenamed('Name', 'New Name')"
   ]
  },
  {
   "cell_type": "code",
   "execution_count": 34,
   "id": "f8794f4a",
   "metadata": {},
   "outputs": [
    {
     "name": "stdout",
     "output_type": "stream",
     "text": [
      "+---+--------+---+\n",
      "|_c0|New Name|Age|\n",
      "+---+--------+---+\n",
      "|  0|   Rithi| 15|\n",
      "|  1|     Mom| 48|\n",
      "|  2|    Ajay| 21|\n",
      "+---+--------+---+\n",
      "\n"
     ]
    }
   ],
   "source": [
    "df_pyspark.show()"
   ]
  },
  {
   "cell_type": "markdown",
   "id": "04e6e208",
   "metadata": {},
   "source": [
    "Handling Missing Values"
   ]
  },
  {
   "cell_type": "code",
   "execution_count": null,
   "id": "7b6f03c7",
   "metadata": {},
   "outputs": [],
   "source": []
  }
 ],
 "metadata": {
  "kernelspec": {
   "display_name": "Python 3",
   "language": "python",
   "name": "python3"
  },
  "language_info": {
   "codemirror_mode": {
    "name": "ipython",
    "version": 3
   },
   "file_extension": ".py",
   "mimetype": "text/x-python",
   "name": "python",
   "nbconvert_exporter": "python",
   "pygments_lexer": "ipython3",
   "version": "3.8.5"
  }
 },
 "nbformat": 4,
 "nbformat_minor": 5
}
